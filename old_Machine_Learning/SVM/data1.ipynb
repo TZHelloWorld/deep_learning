{
 "cells": [
  {
   "cell_type": "code",
   "execution_count": 1,
   "id": "0a7b79a6-2d01-4859-8173-7a3548d14eb3",
   "metadata": {},
   "outputs": [],
   "source": [
    "import scipy.io as scio  # 用于加载mat文件的包\n",
    "import numpy as np\n",
    "from matplotlib import pyplot as plt\n",
    "from sklearn import linear_model,model_selection,svm\n"
   ]
  },
  {
   "cell_type": "code",
   "execution_count": 5,
   "id": "2b83ce9a-93e3-41ed-8d9e-98d2f93f7228",
   "metadata": {},
   "outputs": [
    {
     "name": "stdout",
     "output_type": "stream",
     "text": [
      "[[1.9643   4.5957  ]\n",
      " [2.2753   3.8589  ]\n",
      " [2.9781   4.5651  ]\n",
      " [2.932    3.5519  ]\n",
      " [3.5772   2.856   ]\n",
      " [4.015    3.1937  ]\n",
      " [3.3814   3.4291  ]\n",
      " [3.9113   4.1761  ]\n",
      " [2.7822   4.0431  ]\n",
      " [2.5518   4.6162  ]\n",
      " [3.3698   3.9101  ]\n",
      " [3.1048   3.0709  ]\n",
      " [1.9182   4.0534  ]\n",
      " [2.2638   4.3706  ]\n",
      " [2.6555   3.5008  ]\n",
      " [3.1855   4.2888  ]\n",
      " [3.6579   3.8692  ]\n",
      " [3.9113   3.4291  ]\n",
      " [3.6002   3.1221  ]\n",
      " [3.0357   3.3165  ]\n",
      " [1.5841   3.3575  ]\n",
      " [2.0103   3.2039  ]\n",
      " [1.9527   2.7843  ]\n",
      " [2.2753   2.7127  ]\n",
      " [2.3099   2.9584  ]\n",
      " [2.8283   2.6309  ]\n",
      " [3.0473   2.2931  ]\n",
      " [2.4827   2.0373  ]\n",
      " [2.5057   2.3853  ]\n",
      " [1.8721   2.0577  ]\n",
      " [2.0103   2.3546  ]\n",
      " [1.2269   2.3239  ]\n",
      " [1.8951   2.9174  ]\n",
      " [1.561    3.0709  ]\n",
      " [1.5495   2.6923  ]\n",
      " [1.6878   2.4057  ]\n",
      " [1.4919   2.0271  ]\n",
      " [0.962    2.682   ]\n",
      " [1.1693   2.9276  ]\n",
      " [0.8122   2.9992  ]\n",
      " [0.9735   3.3881  ]\n",
      " [1.25     3.1937  ]\n",
      " [1.3191   3.5109  ]\n",
      " [2.2292   2.201   ]\n",
      " [2.4482   2.6411  ]\n",
      " [2.7938   1.9656  ]\n",
      " [2.091    1.6177  ]\n",
      " [2.5403   2.8867  ]\n",
      " [0.9044   3.0198  ]\n",
      " [0.76615  2.5899  ]\n",
      " [0.086405 4.1045  ]]\n",
      "[[1]\n",
      " [1]\n",
      " [1]\n",
      " [1]\n",
      " [1]\n",
      " [1]\n",
      " [1]\n",
      " [1]\n",
      " [1]\n",
      " [1]\n",
      " [1]\n",
      " [1]\n",
      " [1]\n",
      " [1]\n",
      " [1]\n",
      " [1]\n",
      " [1]\n",
      " [1]\n",
      " [1]\n",
      " [1]\n",
      " [0]\n",
      " [0]\n",
      " [0]\n",
      " [0]\n",
      " [0]\n",
      " [0]\n",
      " [0]\n",
      " [0]\n",
      " [0]\n",
      " [0]\n",
      " [0]\n",
      " [0]\n",
      " [0]\n",
      " [0]\n",
      " [0]\n",
      " [0]\n",
      " [0]\n",
      " [0]\n",
      " [0]\n",
      " [0]\n",
      " [0]\n",
      " [0]\n",
      " [0]\n",
      " [0]\n",
      " [0]\n",
      " [0]\n",
      " [0]\n",
      " [0]\n",
      " [0]\n",
      " [0]\n",
      " [1]]\n"
     ]
    }
   ],
   "source": [
    "data = scio.loadmat('data1.mat')\n",
    "\n",
    "X = data['X']\n",
    "y = data['y']\n",
    "\n",
    "\n",
    "print(X)\n",
    "print(y)\n",
    "\n"
   ]
  },
  {
   "cell_type": "code",
   "execution_count": 8,
   "id": "cd35832d-09b0-4a08-b8d8-ec29ec707304",
   "metadata": {},
   "outputs": [
    {
     "name": "stdout",
     "output_type": "stream",
     "text": [
      "[[6 5]\n",
      " [5 4]\n",
      " [3 1]]\n",
      "[-1, 1, 1]\n",
      "w：[[ 0.28171061 -0.46802748]]，b：[0.49618533]\n",
      "0.2817106073803349\n",
      "-0.4680274800137342\n",
      "0.4961853305335523\n"
     ]
    },
    {
     "ename": "ValueError",
     "evalue": "Masked arrays must be 1-D",
     "output_type": "error",
     "traceback": [
      "\u001b[1;31m---------------------------------------------------------------------------\u001b[0m",
      "\u001b[1;31mValueError\u001b[0m                                Traceback (most recent call last)",
      "\u001b[1;32m~\\AppData\\Local\\Temp/ipykernel_22836/3309380777.py\u001b[0m in \u001b[0;36m<module>\u001b[1;34m\u001b[0m\n\u001b[0;32m     20\u001b[0m \u001b[0mprint\u001b[0m\u001b[1;33m(\u001b[0m\u001b[0mb\u001b[0m\u001b[1;33m)\u001b[0m\u001b[1;33m\u001b[0m\u001b[1;33m\u001b[0m\u001b[0m\n\u001b[0;32m     21\u001b[0m \u001b[1;33m\u001b[0m\u001b[0m\n\u001b[1;32m---> 22\u001b[1;33m \u001b[0mplt\u001b[0m\u001b[1;33m.\u001b[0m\u001b[0mscatter\u001b[0m\u001b[1;33m(\u001b[0m\u001b[0mX\u001b[0m\u001b[1;33m[\u001b[0m\u001b[1;33m:\u001b[0m\u001b[1;33m,\u001b[0m\u001b[1;36m0\u001b[0m\u001b[1;33m]\u001b[0m\u001b[1;33m,\u001b[0m\u001b[0mX\u001b[0m\u001b[1;33m[\u001b[0m\u001b[1;33m:\u001b[0m\u001b[1;33m,\u001b[0m\u001b[1;36m1\u001b[0m\u001b[1;33m]\u001b[0m\u001b[1;33m,\u001b[0m\u001b[0mc\u001b[0m\u001b[1;33m=\u001b[0m\u001b[1;33m[\u001b[0m\u001b[1;33m[\u001b[0m\u001b[1;33m-\u001b[0m\u001b[1;36m1\u001b[0m\u001b[1;33m]\u001b[0m\u001b[1;33m,\u001b[0m\u001b[1;33m[\u001b[0m\u001b[1;36m1\u001b[0m\u001b[1;33m]\u001b[0m\u001b[1;33m,\u001b[0m\u001b[1;33m[\u001b[0m\u001b[1;36m1\u001b[0m\u001b[1;33m]\u001b[0m\u001b[1;33m]\u001b[0m\u001b[1;33m)\u001b[0m\u001b[1;33m\u001b[0m\u001b[1;33m\u001b[0m\u001b[0m\n\u001b[0m",
      "\u001b[1;32mD:\\develope\\Anaconda3\\envs\\ML\\lib\\site-packages\\matplotlib\\pyplot.py\u001b[0m in \u001b[0;36mscatter\u001b[1;34m(x, y, s, c, marker, cmap, norm, vmin, vmax, alpha, linewidths, edgecolors, plotnonfinite, data, **kwargs)\u001b[0m\n\u001b[0;32m   3070\u001b[0m         \u001b[0mvmin\u001b[0m\u001b[1;33m=\u001b[0m\u001b[0mvmin\u001b[0m\u001b[1;33m,\u001b[0m \u001b[0mvmax\u001b[0m\u001b[1;33m=\u001b[0m\u001b[0mvmax\u001b[0m\u001b[1;33m,\u001b[0m \u001b[0malpha\u001b[0m\u001b[1;33m=\u001b[0m\u001b[0malpha\u001b[0m\u001b[1;33m,\u001b[0m \u001b[0mlinewidths\u001b[0m\u001b[1;33m=\u001b[0m\u001b[0mlinewidths\u001b[0m\u001b[1;33m,\u001b[0m\u001b[1;33m\u001b[0m\u001b[1;33m\u001b[0m\u001b[0m\n\u001b[0;32m   3071\u001b[0m         \u001b[0medgecolors\u001b[0m\u001b[1;33m=\u001b[0m\u001b[0medgecolors\u001b[0m\u001b[1;33m,\u001b[0m \u001b[0mplotnonfinite\u001b[0m\u001b[1;33m=\u001b[0m\u001b[0mplotnonfinite\u001b[0m\u001b[1;33m,\u001b[0m\u001b[1;33m\u001b[0m\u001b[1;33m\u001b[0m\u001b[0m\n\u001b[1;32m-> 3072\u001b[1;33m         **({\"data\": data} if data is not None else {}), **kwargs)\n\u001b[0m\u001b[0;32m   3073\u001b[0m     \u001b[0msci\u001b[0m\u001b[1;33m(\u001b[0m\u001b[0m__ret\u001b[0m\u001b[1;33m)\u001b[0m\u001b[1;33m\u001b[0m\u001b[1;33m\u001b[0m\u001b[0m\n\u001b[0;32m   3074\u001b[0m     \u001b[1;32mreturn\u001b[0m \u001b[0m__ret\u001b[0m\u001b[1;33m\u001b[0m\u001b[1;33m\u001b[0m\u001b[0m\n",
      "\u001b[1;32mD:\\develope\\Anaconda3\\envs\\ML\\lib\\site-packages\\matplotlib\\__init__.py\u001b[0m in \u001b[0;36minner\u001b[1;34m(ax, data, *args, **kwargs)\u001b[0m\n\u001b[0;32m   1359\u001b[0m     \u001b[1;32mdef\u001b[0m \u001b[0minner\u001b[0m\u001b[1;33m(\u001b[0m\u001b[0max\u001b[0m\u001b[1;33m,\u001b[0m \u001b[1;33m*\u001b[0m\u001b[0margs\u001b[0m\u001b[1;33m,\u001b[0m \u001b[0mdata\u001b[0m\u001b[1;33m=\u001b[0m\u001b[1;32mNone\u001b[0m\u001b[1;33m,\u001b[0m \u001b[1;33m**\u001b[0m\u001b[0mkwargs\u001b[0m\u001b[1;33m)\u001b[0m\u001b[1;33m:\u001b[0m\u001b[1;33m\u001b[0m\u001b[1;33m\u001b[0m\u001b[0m\n\u001b[0;32m   1360\u001b[0m         \u001b[1;32mif\u001b[0m \u001b[0mdata\u001b[0m \u001b[1;32mis\u001b[0m \u001b[1;32mNone\u001b[0m\u001b[1;33m:\u001b[0m\u001b[1;33m\u001b[0m\u001b[1;33m\u001b[0m\u001b[0m\n\u001b[1;32m-> 1361\u001b[1;33m             \u001b[1;32mreturn\u001b[0m \u001b[0mfunc\u001b[0m\u001b[1;33m(\u001b[0m\u001b[0max\u001b[0m\u001b[1;33m,\u001b[0m \u001b[1;33m*\u001b[0m\u001b[0mmap\u001b[0m\u001b[1;33m(\u001b[0m\u001b[0msanitize_sequence\u001b[0m\u001b[1;33m,\u001b[0m \u001b[0margs\u001b[0m\u001b[1;33m)\u001b[0m\u001b[1;33m,\u001b[0m \u001b[1;33m**\u001b[0m\u001b[0mkwargs\u001b[0m\u001b[1;33m)\u001b[0m\u001b[1;33m\u001b[0m\u001b[1;33m\u001b[0m\u001b[0m\n\u001b[0m\u001b[0;32m   1362\u001b[0m \u001b[1;33m\u001b[0m\u001b[0m\n\u001b[0;32m   1363\u001b[0m         \u001b[0mbound\u001b[0m \u001b[1;33m=\u001b[0m \u001b[0mnew_sig\u001b[0m\u001b[1;33m.\u001b[0m\u001b[0mbind\u001b[0m\u001b[1;33m(\u001b[0m\u001b[0max\u001b[0m\u001b[1;33m,\u001b[0m \u001b[1;33m*\u001b[0m\u001b[0margs\u001b[0m\u001b[1;33m,\u001b[0m \u001b[1;33m**\u001b[0m\u001b[0mkwargs\u001b[0m\u001b[1;33m)\u001b[0m\u001b[1;33m\u001b[0m\u001b[1;33m\u001b[0m\u001b[0m\n",
      "\u001b[1;32mD:\\develope\\Anaconda3\\envs\\ML\\lib\\site-packages\\matplotlib\\axes\\_axes.py\u001b[0m in \u001b[0;36mscatter\u001b[1;34m(self, x, y, s, c, marker, cmap, norm, vmin, vmax, alpha, linewidths, edgecolors, plotnonfinite, **kwargs)\u001b[0m\n\u001b[0;32m   4525\u001b[0m             \u001b[0mx\u001b[0m\u001b[1;33m,\u001b[0m \u001b[0my\u001b[0m\u001b[1;33m,\u001b[0m \u001b[0ms\u001b[0m\u001b[1;33m,\u001b[0m \u001b[0mc\u001b[0m\u001b[1;33m,\u001b[0m \u001b[0mcolors\u001b[0m\u001b[1;33m,\u001b[0m \u001b[0medgecolors\u001b[0m\u001b[1;33m,\u001b[0m \u001b[0mlinewidths\u001b[0m \u001b[1;33m=\u001b[0m\u001b[0;31m \u001b[0m\u001b[0;31m\\\u001b[0m\u001b[1;33m\u001b[0m\u001b[1;33m\u001b[0m\u001b[0m\n\u001b[0;32m   4526\u001b[0m                 cbook._combine_masks(\n\u001b[1;32m-> 4527\u001b[1;33m                     x, y, s, c, colors, edgecolors, linewidths)\n\u001b[0m\u001b[0;32m   4528\u001b[0m         \u001b[1;31m# Unmask edgecolors if it was actually a single RGB or RGBA.\u001b[0m\u001b[1;33m\u001b[0m\u001b[1;33m\u001b[0m\u001b[1;33m\u001b[0m\u001b[0m\n\u001b[0;32m   4529\u001b[0m         if (x.size in (3, 4)\n",
      "\u001b[1;32mD:\\develope\\Anaconda3\\envs\\ML\\lib\\site-packages\\matplotlib\\cbook\\__init__.py\u001b[0m in \u001b[0;36m_combine_masks\u001b[1;34m(*args)\u001b[0m\n\u001b[0;32m   1057\u001b[0m         \u001b[1;32melse\u001b[0m\u001b[1;33m:\u001b[0m\u001b[1;33m\u001b[0m\u001b[1;33m\u001b[0m\u001b[0m\n\u001b[0;32m   1058\u001b[0m             \u001b[1;32mif\u001b[0m \u001b[0misinstance\u001b[0m\u001b[1;33m(\u001b[0m\u001b[0mx\u001b[0m\u001b[1;33m,\u001b[0m \u001b[0mnp\u001b[0m\u001b[1;33m.\u001b[0m\u001b[0mma\u001b[0m\u001b[1;33m.\u001b[0m\u001b[0mMaskedArray\u001b[0m\u001b[1;33m)\u001b[0m \u001b[1;32mand\u001b[0m \u001b[0mx\u001b[0m\u001b[1;33m.\u001b[0m\u001b[0mndim\u001b[0m \u001b[1;33m>\u001b[0m \u001b[1;36m1\u001b[0m\u001b[1;33m:\u001b[0m\u001b[1;33m\u001b[0m\u001b[1;33m\u001b[0m\u001b[0m\n\u001b[1;32m-> 1059\u001b[1;33m                 \u001b[1;32mraise\u001b[0m \u001b[0mValueError\u001b[0m\u001b[1;33m(\u001b[0m\u001b[1;34m\"Masked arrays must be 1-D\"\u001b[0m\u001b[1;33m)\u001b[0m\u001b[1;33m\u001b[0m\u001b[1;33m\u001b[0m\u001b[0m\n\u001b[0m\u001b[0;32m   1060\u001b[0m             \u001b[1;32mtry\u001b[0m\u001b[1;33m:\u001b[0m\u001b[1;33m\u001b[0m\u001b[1;33m\u001b[0m\u001b[0m\n\u001b[0;32m   1061\u001b[0m                 \u001b[0mx\u001b[0m \u001b[1;33m=\u001b[0m \u001b[0mnp\u001b[0m\u001b[1;33m.\u001b[0m\u001b[0masanyarray\u001b[0m\u001b[1;33m(\u001b[0m\u001b[0mx\u001b[0m\u001b[1;33m)\u001b[0m\u001b[1;33m\u001b[0m\u001b[1;33m\u001b[0m\u001b[0m\n",
      "\u001b[1;31mValueError\u001b[0m: Masked arrays must be 1-D"
     ]
    },
    {
     "data": {
      "image/png": "[encoded data removed]",
      "text/plain": [
       "<Figure size 432x288 with 1 Axes>"
      ]
     },
     "metadata": {
      "needs_background": "light"
     },
     "output_type": "display_data"
    }
   ],
   "source": [
    "X = np.mat([[6,5],[5,4],[3,1]])\n",
    "y = [-1,1,1]\n",
    "\n",
    "\n",
    "print(X)\n",
    "print(y)\n",
    "\n",
    "cls = svm.LinearSVC()\n",
    "\n",
    "cls.fit(X,y)\n",
    "\n",
    "print('w：%s，b：%s'%(cls.coef_,cls.intercept_))\n",
    "\n",
    "\n",
    "w =cls.coef_[0]\n",
    "b = cls.intercept_[0]\n",
    "\n",
    "print(w[0])\n",
    "print(w[1])\n",
    "print(b)\n"
   ]
  },
  {
   "cell_type": "code",
   "execution_count": 3,
   "id": "df0180d2-2355-4476-b9d2-48903cd19dcf",
   "metadata": {},
   "outputs": [],
   "source": [
    "# 划分数据集\n",
    "X_train,X_test,y_train,y_test=model_selection.train_test_split(X,y,test_size=0.3,random_state=42)\n",
    "\n",
    "# print(X_train)\n",
    "# print(y_train)\n"
   ]
  },
  {
   "cell_type": "code",
   "execution_count": 4,
   "id": "c83d7cbc-f4f3-4bca-af06-40414429afc7",
   "metadata": {},
   "outputs": [
    {
     "data": {
      "text/plain": [
       "<matplotlib.collections.PathCollection at 0x1e2a7ed4ec8>"
      ]
     },
     "execution_count": 4,
     "metadata": {},
     "output_type": "execute_result"
    },
    {
     "data": {
      "image/png": "[encoded data removed]",
      "text/plain": [
       "<Figure size 432x288 with 1 Axes>"
      ]
     },
     "metadata": {
      "needs_background": "light"
     },
     "output_type": "display_data"
    }
   ],
   "source": [
    "# 对训练数据进行可视化\n",
    "\n",
    "# 表示的是色彩或颜色序列，可选，默认蓝色’b’。但是c不应该是一个单一的RGB数字，也不应该是一个RGBA的序列，因为不便区分。c可以是一个RGB或RGBA二维行数组。\n",
    "plt.scatter(X_train[:,0],X_train[:,1],c=y_train)"
   ]
  },
  {
   "cell_type": "code",
   "execution_count": 5,
   "id": "d66b35d0-b2e9-4a0e-9964-f90c5e48fe9a",
   "metadata": {},
   "outputs": [],
   "source": [
    "# # 测试数据集上的可视化\n",
    "# plt.scatter(X_test[:,0],X_test[:,1],c=y_test)"
   ]
  },
  {
   "cell_type": "code",
   "execution_count": 6,
   "id": "0dcb77d3-8e21-4f29-af87-f77637b88a2e",
   "metadata": {},
   "outputs": [
    {
     "name": "stdout",
     "output_type": "stream",
     "text": [
      "w：[[0.36162156 0.67299296]]，b：[-3.10320791]\n",
      "算法评分：1.00\n",
      "0.3616215573678244\n",
      "0.6729929586868726\n",
      "-3.103207906223657\n"
     ]
    }
   ],
   "source": [
    "# SVM训练过程\n",
    "cls = svm.LinearSVC()\n",
    "\n",
    "# cls.fit(X_train,y_train)\n",
    "# 因为fit()第二个参数（也就是label）必须是(n.)格式的，而传入的是(n,1)格式的，所以我们需要将他转换\n",
    "cls.fit(X_train,y_train.ravel())\n",
    "\n",
    "print('w：%s，b：%s'%(cls.coef_,cls.intercept_))\n",
    "\n",
    "print('算法评分：%.2f'%cls.score(X_test,y_test))\n",
    "\n",
    "w =cls.coef_[0]\n",
    "b = cls.intercept_[0]\n",
    "\n",
    "print(w[0])\n",
    "print(w[1])\n",
    "print(b)\n"
   ]
  },
  {
   "cell_type": "code",
   "execution_count": 7,
   "id": "b5b91b21-0b83-443a-806d-0e43211d0cff",
   "metadata": {},
   "outputs": [],
   "source": [
    "# 会发现有个点有问题，加入惩罚项C的svm训练\n",
    "\n",
    "# Sklearn.svm.LinearSVC(penalty=’l2’, loss=’squared_hinge’, dual=True, tol=0.0001, C=1.0, multi_class=’ovr’,fit_intercept=True, intercept_scaling=1, class_weight=None, verbose=0, random_state=None, max_iter=1000)\n",
    "# 查官方文档。\n",
    "\n",
    "# cls = svm.LinearSVC(C=10**9,max_iter=10000000)\n",
    "# cls.fit(X_train,y_train.ravel())\n",
    "\n",
    "# print('w：%s，b：%s'%(cls.coef_,cls.intercept_))\n",
    "\n",
    "# print('算法评分：%.2f'%cls.score(X_test,y_test))\n",
    "# w =cls.coef_[0]\n",
    "# b = cls.intercept_[0]\n"
   ]
  },
  {
   "cell_type": "code",
   "execution_count": 8,
   "id": "eaa25e80-a4d8-493b-aa39-665fae9c011d",
   "metadata": {},
   "outputs": [
    {
     "data": {
      "text/plain": [
       "[<matplotlib.lines.Line2D at 0x1e2a8fb06c8>]"
      ]
     },
     "execution_count": 8,
     "metadata": {},
     "output_type": "execute_result"
    },
    {
     "data": {
      "image/png": "[encoded data removed]",
      "text/plain": [
       "<Figure size 432x288 with 1 Axes>"
      ]
     },
     "metadata": {
      "needs_background": "light"
     },
     "output_type": "display_data"
    }
   ],
   "source": [
    "# 画出决策边界和训练样本集合上的点\n",
    "plt.scatter(X_train[:,0],X_train[:,1],c=y_train)\n",
    "\n",
    "# 决策边界是w1x+w2y+b=0的形式，需要改写以下。y=。。。\n",
    "x = np.linspace(0,5,10)\n",
    "y = (-w[0]*x - b)/w[1]\n",
    "\n",
    "\n",
    "plt.plot(x, y)\n"
   ]
  },
  {
   "cell_type": "code",
   "execution_count": 9,
   "id": "5dbfa39f-4fef-4acf-aaae-c14161601c1f",
   "metadata": {},
   "outputs": [
    {
     "data": {
      "text/plain": [
       "[<matplotlib.lines.Line2D at 0x1e2a9039608>]"
      ]
     },
     "execution_count": 9,
     "metadata": {},
     "output_type": "execute_result"
    },
    {
     "data": {
      "image/png": "[encoded data removed]",
      "text/plain": [
       "<Figure size 432x288 with 1 Axes>"
      ]
     },
     "metadata": {
      "needs_background": "light"
     },
     "output_type": "display_data"
    }
   ],
   "source": [
    "# 画出决策边界和测试样本集上的点\n",
    "plt.scatter(X_test[:,0],X_test[:,1],c=y_test)\n",
    "x = np.linspace(0,5,10)\n",
    "y = (-w[0]*x - b)/w[1]\n",
    "plt.plot(x, y)\n",
    "\n"
   ]
  },
  {
   "cell_type": "code",
   "execution_count": null,
   "id": "c3ff1dc1-93c8-49c8-863a-d73e8b88c366",
   "metadata": {},
   "outputs": [],
   "source": []
  }
 ],
 "metadata": {
  "kernelspec": {
   "display_name": "Python [conda env:ML]",
   "language": "python",
   "name": "conda-env-ML-py"
  },
  "language_info": {
   "codemirror_mode": {
    "name": "ipython",
    "version": 3
   },
   "file_extension": ".py",
   "mimetype": "text/x-python",
   "name": "python",
   "nbconvert_exporter": "python",
   "pygments_lexer": "ipython3",
   "version": "3.7.11"
  }
 },
 "nbformat": 4,
 "nbformat_minor": 5
}

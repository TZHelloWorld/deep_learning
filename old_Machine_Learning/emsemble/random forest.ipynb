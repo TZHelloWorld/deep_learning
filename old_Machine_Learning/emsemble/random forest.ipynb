{
 "cells": [
  {
   "cell_type": "code",
   "execution_count": 1,
   "metadata": {},
   "outputs": [],
   "source": [
    "from sklearn.ensemble import RandomForestClassifier\n",
    "from sklearn.datasets import make_classification\n",
    "import numpy as np\n",
    "from scipy.io import loadmat\n",
    "from sklearn.model_selection import train_test_split\n",
    "from matplotlib import pyplot as plt\n",
    "from sklearn.datasets import load_iris\n",
    "\n",
    "from sklearn.model_selection import GridSearchCV"
   ]
  },
  {
   "cell_type": "code",
   "execution_count": 2,
   "metadata": {},
   "outputs": [],
   "source": [
    "# data loading\n",
    "X, y = load_iris(return_X_y=True)\n",
    "\n",
    "# data = loadmat('data1.mat')\n",
    "# X = data['X']\n",
    "# y = data['y'].flatten()\n",
    "X_train,X_test,y_train,y_test=train_test_split(X,y,random_state=1,train_size=0.7,test_size=0.3)"
   ]
  },
  {
   "cell_type": "code",
   "execution_count": 4,
   "metadata": {},
   "outputs": [
    {
     "data": {
      "text/plain": [
       "RandomForestClassifier(max_depth=9, n_estimators=800, random_state=10)"
      ]
     },
     "execution_count": 4,
     "metadata": {},
     "output_type": "execute_result"
    }
   ],
   "source": [
    "# 官网：https://scikit-learn.org/stable/modules/generated/sklearn.ensemble.RandomForestClassifier.html\n",
    "# 调参小结：https://www.cnblogs.com/pinard/p/6160412.html\n",
    " \n",
    "# RandomForestClassifier随机森林分类\n",
    "# 重要参数（n_estimators，random_state）\n",
    "# n_estimators：森林中树木的数量，即基评估器的数量。n_estimators越大，模型的效果往往越好。一个随机森林和单个决策树效益的对比\n",
    "# random_state：在决策树中，一个random_state只控制生成一棵树，而随机森林中的random_state控制的是生成森林的模式。当random_state固定时，随机森林中生成是一组固定的树，但每棵树依然是不一致的。\n",
    "# \n",
    "\n",
    "# range(start, stop[, step])\n",
    "#     参数说明：\n",
    "#           start: 计数从 start 开始。默认是从 0 开始。例如range（5）等价于range（0， 5）;\n",
    "#           stop: 计数到 stop 结束，但不包括 stop。例如：range（0， 5） 是[0, 1, 2, 3, 4]没有5\n",
    "#           step：步长，默认为1。例如：range（0， 5） 等价于 range(0, 5, 1)\n",
    "\n",
    "# 进行参数选择\n",
    "\n",
    "\n",
    "# n_estimators、criterion、max_depth、min_samples_split对训练结果的影响\n",
    "\n",
    "# criterion有“gini”, “entropy”\n",
    "# param1 = {\n",
    "#     'n_estimators':[100,200,300],\n",
    "#     'criterion':['gini','entropy'],\n",
    "#     'max_depth':[1,5,9],\n",
    "#     'min_samples_split':[40,80,120]\n",
    "#              }\n",
    "\n",
    "# search = GridSearchCV(estimator = RandomForestClassifier(),param_grid = param1, scoring='roc_auc',cv=5)\n",
    "\n",
    "# search.fit(X,y)\n",
    "\n",
    "# search.cv_results_, search.best_params_, search.best_score_\n",
    "\n",
    "\n",
    "\n",
    "# # # {'n_estimators': 160}\n",
    "# param_test1 = {'n_estimators':range(50,1000,50)}\n",
    "# gsearch1 = GridSearchCV(estimator = RandomForestClassifier(), param_grid = param_test1, scoring='roc_auc',cv=5)\n",
    "# gsearch1.fit(X,y)\n",
    "\n",
    "# print(gsearch1.cv_results_)\n",
    "\n",
    "# print(gsearch1.best_params_)\n",
    "\n",
    "# print(gsearch1.best_score_)\n",
    "\n",
    "\n",
    "# # {'max_depth': 5, 'min_samples_split': 170},\n",
    "# param_test2 = {'max_depth':range(3,14,2), 'min_samples_split':range(50,201,20)}\n",
    "# gsearch2 = GridSearchCV(estimator = RandomForestClassifier(n_estimators= 160, \n",
    "#                                   min_samples_leaf=20,max_features='sqrt' ,oob_score=True, random_state=10),\n",
    "#    param_grid = param_test2, scoring='roc_auc', cv=5)\n",
    "# gsearch2.fit(X,y)\n",
    "# gsearch2.cv_results_, gsearch2.best_params_, gsearch2.best_score_\n",
    "\n",
    "\n",
    "# #   {'min_samples_leaf': 40, 'min_samples_split': 140},\n",
    "# param_test3 = {'min_samples_split':range(80,150,20), 'min_samples_leaf':range(10,60,10)}\n",
    "# gsearch3 = GridSearchCV(estimator = RandomForestClassifier(n_estimators= 160, max_depth=5,\n",
    "#                                   max_features='sqrt' ,oob_score=True, random_state=10),\n",
    "#    param_grid = param_test3, scoring='roc_auc', cv=5)\n",
    "# gsearch3.fit(X,y)\n",
    "# gsearch3.cv_results_, gsearch3.best_params_, gsearch3.best_score_\n",
    "\n",
    "# # 0.8764478764478765\n",
    "# clf = RandomForestClassifier(n_estimators= 160, max_depth=5, min_samples_split=140,\n",
    "#                                   min_samples_leaf=40, random_state=10)\n",
    "# clf.fit(X,y)\n",
    "\n",
    "\n",
    "\n",
    "# clf.cv_results_, clf.best_params_, clf.best_score_\n",
    "\n",
    "\n",
    "# n_estimators、criterion、max_depth、min_samples_split对训练结果的影响\n",
    "\n",
    "# criterion有“gini”, “entropy”\n",
    "\n",
    "# clf = RandomForestClassifier(n_estimators=800,criterion=\"gini\",max_depth=9,min_samples_split=40, random_state=10) # 1.0\n",
    "\n",
    "\n",
    "# 原版\n",
    "clf = RandomForestClassifier(n_estimators=800,max_depth=9, random_state=10) # 1.0\n",
    "clf.fit(X, y)\n",
    "\n",
    "# for i in range(80,150,1):\n",
    "#     clf =RandomForestClassifier(max_depth=2, random_state=0,min_samples_split=i)\n",
    "#     clf.fit(X, y)\n",
    "#     acc = clf.score(X_test, y_test)\n",
    "#     print('i:test_acc:',i,acc)\n",
    "    \n",
    "# clf = RandomForestClassifier(criterion=\"gini\",max_depth=2, random_state=0) \n",
    "# clf.fit(X, y)\n",
    "# acc = clf.score(X_test, y_test)\n",
    "# print('gini_test_acc:',acc)\n",
    "\n",
    "\n",
    "# clf = RandomForestClassifier(criterion=\"entropy\",max_depth=2, random_state=0) \n",
    "# clf.fit(X, y)\n",
    "# acc = clf.score(X_test, y_test)\n",
    "# print('entropy_test_acc:',acc)"
   ]
  },
  {
   "cell_type": "code",
   "execution_count": 5,
   "metadata": {},
   "outputs": [
    {
     "name": "stdout",
     "output_type": "stream",
     "text": [
      "test_acc: 1.0\n"
     ]
    }
   ],
   "source": [
    "acc = clf.score(X_test, y_test)\n",
    "print('test_acc:',acc)"
   ]
  },
  {
   "cell_type": "code",
   "execution_count": null,
   "metadata": {},
   "outputs": [],
   "source": []
  },
  {
   "cell_type": "code",
   "execution_count": null,
   "metadata": {},
   "outputs": [],
   "source": [
    "# 训练集上可视化\n",
    "plt.scatter(X_train[:,0],X_train[:,1],c=y_train.flatten())"
   ]
  },
  {
   "cell_type": "code",
   "execution_count": null,
   "metadata": {},
   "outputs": [],
   "source": [
    "# 测试集上可视化\n",
    "plt.scatter(X_test[:,0],X_test[:,1],c=y_test.flatten())\n"
   ]
  }
 ],
 "metadata": {
  "kernelspec": {
   "display_name": "Python [conda env:ML]",
   "language": "python",
   "name": "conda-env-ML-py"
  },
  "language_info": {
   "codemirror_mode": {
    "name": "ipython",
    "version": 3
   },
   "file_extension": ".py",
   "mimetype": "text/x-python",
   "name": "python",
   "nbconvert_exporter": "python",
   "pygments_lexer": "ipython3",
   "version": "3.7.11"
  }
 },
 "nbformat": 4,
 "nbformat_minor": 4
}
